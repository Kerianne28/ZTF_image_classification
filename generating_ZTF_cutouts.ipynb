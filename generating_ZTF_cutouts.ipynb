{
 "cells": [
  {
   "cell_type": "markdown",
   "metadata": {},
   "source": [
    "# Generating ZTF cutouts given RA and DEC\n",
    "\n",
    "More information on ZTF: https://www.ztf.caltech.edu <br>\n",
    "ztfquery repo: https://github.com/MickaelRigault/ztfquery"
   ]
  },
  {
   "cell_type": "markdown",
   "metadata": {},
   "source": [
    "### Generating ZTF cutouts:\n",
    "\n",
    "ZTF has a method of generating cutouts by creating a URL with the relevant information for that specific object. The general format is:\n",
    "'https://irsa.ipac.caltech.edu/ibe/data/ztf/products/sci/'[year]'/'[month+day]'/'[fracday]'/ztf_'[filefracday]'_'[field]'_'[filtercode]'_c'[ccdid]'_'[imgtypecode]'_q'[qid]'_sciimg.fits'?center='[ra]','[dec]'&size='[cutout_size]'arcsec&gzip=false'\n",
    "and needs to be made for each object.\n",
    "\n",
    "To generate a ZTF cutout in this way, you need to:\n",
    "- Get a full-sized ZTF image that contains your object (which can be found by passing the objects RA and DEC to ztfquery).\n",
    "- Get the relevant information from that full-sized image (everything in square brackets in the URL above), and generate the URL string using that information and the RA and DEC of your object.\n",
    "- Open the URL to get the image data for that object! (We then save the data as \".fits\" images, which we do for convenience for the next notebook.)\n",
    "\n",
    "More information on .fits format can be found here: https://en.wikipedia.org/wiki/FITS\n",
    "\n",
    "<br>"
   ]
  },
  {
   "cell_type": "code",
   "execution_count": null,
   "metadata": {},
   "outputs": [],
   "source": [
    "from ztfquery import query\n",
    "import pandas as pd\n",
    "import numpy as np\n",
    "import astropy.io.fits as fits\n",
    "from tqdm import tqdm\n",
    "import os\n",
    "import matplotlib.pyplot as plt\n",
    "import warnings"
   ]
  },
  {
   "cell_type": "markdown",
   "metadata": {},
   "source": [
    "### Read in the star and galaxy data, and combine into one pandas DataFrame"
   ]
  },
  {
   "cell_type": "code",
   "execution_count": null,
   "metadata": {},
   "outputs": [],
   "source": [
    "stars = pd.read_csv('stars.csv')\n",
    "galaxies = pd.read_csv('gals.csv')\n",
    "ra_dec = pd.DataFrame({'star_ra': stars['ra'].values, 'star_dec': stars['dec'].values, 'galaxy_ra': galaxies['ra'].values, 'galaxy_dec': galaxies['dec'].values})"
   ]
  },
  {
   "cell_type": "code",
   "execution_count": null,
   "metadata": {},
   "outputs": [],
   "source": [
    "# Optional step: You can shuffle the DataFrame up to make cutouts in a random order.\n",
    "ra_dec = ra_dec.sample(frac=1)"
   ]
  },
  {
   "cell_type": "markdown",
   "metadata": {},
   "source": [
    "### Set and define various parameters for generating cutouts"
   ]
  },
  {
   "cell_type": "markdown",
   "metadata": {},
   "source": [
    "***Note:*** For this example, `num_cutouts` is set to create 10 cutouts of each type. If you want to duplicate producing the number of cutouts we have supplied, you need to change this number.\n",
    "\n",
    "***Note:*** We use the full list of star/galaxy positions (`ra_dec`), and *then* define when to stop (with `num_cutouts`), instead of cutting `ra_dec` to the number of cutouts we want. There are many reasons a valid cutout URL may not be generated (there weren't any full-sized images in our specified seeing or filer, the cutout was the wrong size, etc). You could pass through 10 objects, but only 9 cutouts are made, so for that reason, we set how many cutouts we *want*, and go one object at a time until that is satisfied."
   ]
  },
  {
   "cell_type": "code",
   "execution_count": null,
   "metadata": {},
   "outputs": [],
   "source": [
    "# The size of the cutout, in arcseconds\n",
    "image_size = 20\n",
    "\n",
    "# The number of cutouts (of each type) to make\n",
    "num_cutouts = 10\n",
    "\n",
    "# Create an empty pd.DataFrame to store cutout URLs\n",
    "cut_outs_df = pd.DataFrame({})\n",
    "\n",
    "# Define ZTF query object for querying the data\n",
    "zquery = query.ZTFQuery()\n",
    "\n",
    "# Create the directory for the cutout images to be stored\n",
    "cutout_path = 'cutouts_test/'\n",
    "if os.path.exists(cutout_path) == False:\n",
    "    os.mkdir(cutout_path)\n",
    "\n",
    "# We append to this later for visualizing some cutouts\n",
    "plot_data = []\n",
    "\n",
    "# This suppresses 'ugly' warnings from ztfquery \n",
    "# when there are no images with our specified parameters\n",
    "warnings.simplefilter(\"ignore\", UserWarning)"
   ]
  },
  {
   "cell_type": "markdown",
   "metadata": {},
   "source": [
    "### Create a function for generating ZTF cutout URLs:\n",
    "- Takes in the full-sized image, ra, and dec\n",
    "- Gets all relevant information from the image\n",
    "- Returns the cut_out URL"
   ]
  },
  {
   "cell_type": "code",
   "execution_count": null,
   "metadata": {},
   "outputs": [],
   "source": [
    "def generate_url(image, ra, dec):\n",
    "    year = image['obsdate'].values[0][0:4]\n",
    "    month = image['obsdate'].values[0][5:7]\n",
    "    day = image['obsdate'].values[0][8:10]\n",
    "    filefracday = str(image['filefracday'].values[0])\n",
    "    fracday = filefracday[8:14]\n",
    "    imgtypecode = str(image['imgtypecode'].values[0])\n",
    "    qid = str(image['qid'].values[0])\n",
    "    \n",
    "    # Get the ZTF field and pad it to 6 digits\n",
    "    field = str(image['field'].values[0])\n",
    "    if len(field) < 6:\n",
    "        pad_field = 6 - len(field)\n",
    "        field = '0'*pad_field+str(field)\n",
    "    \n",
    "    filtercode = image['filtercode'].values[0]\n",
    "    \n",
    "    # Get the CCD ID and pad it to 2 digits\n",
    "    ccdid = str(image['ccdid'].values[0])\n",
    "    if len(ccdid) < 2:\n",
    "        pad_ccdid = 2 - len(ccdid)\n",
    "        ccdid = '0'*pad_ccdid+str(ccdid)\n",
    "\n",
    "    cut_out = 'https://irsa.ipac.caltech.edu/ibe/data/ztf/products/sci/'+year+'/'+month+day+'/'+fracday+'/ztf_'+filefracday+'_'+field+'_'+filtercode+'_c'+ccdid+'_'+imgtypecode+'_q'+qid+'_sciimg.fits?center='+str(ra)+','+str(dec)+'&size='+str(image_size)+'arcsec&gzip=false'\n",
    "    \n",
    "    return cut_out"
   ]
  },
  {
   "cell_type": "markdown",
   "metadata": {},
   "source": [
    "### Create a function that opens each URL and saves as a .fits image:\n",
    " \n",
    "- Open each URL\n",
    "- Check the data shape\n",
    "- Correct the cutout and continue, or skip the cutout and exit\n",
    "- Append selected image data to `plot_data` (for checking later)\n",
    "- Save image locally in .fits format\n",
    "\n",
    "***Note:*** 1 arcsecond ~ 1 pixel. We told the cutouts to be 20\" (so most images are 20x20 pixels), but a rare few are more/less pixels. We want all cutouts the same size, so if they are 21x21, we correct the image, but if they are <20 or >21, we skip the cutout (too much effort and very rare)."
   ]
  },
  {
   "cell_type": "code",
   "execution_count": null,
   "metadata": {},
   "outputs": [],
   "source": [
    "def save_image(url, num, plot_data, pbar):\n",
    "    image_data = fits.getdata(url, header=True) # image + header\n",
    "    image = image_data[0] # just image\n",
    "    header = image_data[1] # just header\n",
    "    \n",
    "    if (image.shape[0] < 20) or (image.shape[1] < 20) or (image.shape[0] > 21) or (image.shape[1] > 21):\n",
    "        print(\"Image less than 20x20 pixels, or greater than 21x21 pixels, continuing to next object\")\n",
    "        return num, pbar\n",
    "    \n",
    "    if image.shape[0] == 21:\n",
    "        # Drop first row\n",
    "        image = np.delete(image, 0, 0)\n",
    "    if image.shape[1] == 21:\n",
    "        # Drop first column\n",
    "        image = np.delete(image, 0, 1)\n",
    "\n",
    "    # Save as .fits\n",
    "    fits.writeto(str(cutout_path)+str(obj_type)+'_'+str(num)+'.fits', image, header=header, overwrite=True)\n",
    "    \n",
    "    # Append first 3 objects for plotting\n",
    "    if num < 3:\n",
    "        plot_data.append(image)\n",
    "    \n",
    "    # For successful cutouts, add 1 to the counter and update progress bar\n",
    "    num += 1\n",
    "    pbar.update(1)\n",
    "    return num, pbar"
   ]
  },
  {
   "cell_type": "markdown",
   "metadata": {},
   "source": [
    "### For each object:\n",
    "- Run ztfquery to get a full-sized ZTF science image\n",
    "- Generate a URL for that objects cutout with `generate_url`\n",
    "- Open the URL and save cutout as .fits image using `save_image`\n",
    "- *Optional*: Save all URLs to .csv (to avoid querying the data and generating the URLs again)"
   ]
  },
  {
   "cell_type": "markdown",
   "metadata": {},
   "source": [
    "<u>***Note:***</u> We query the data with 4 conditions:\n",
    "\n",
    "1. kind='sci'\n",
    "    - This queries only \"science\" images, which we want for our cutouts.\n",
    "2. Seeing < 2.0\n",
    "    - \"Seeing\" quatifies the quality of the atmosphere. Throw out any images with seeing > 2.0. More info on \"seeing\" here: https://www.handprint.com/ASTRO/seeing3.html \n",
    "3. filtercode = 'zi'\n",
    "    - 'zi' stands for \"ZTF i-band\". We select i-band images because they seem to work best with the classifier.\n",
    "4. mcen=True\n",
    "    - Each object will appear in MANY full-size science images, making querying long when we only need 1 image to generate a cutout. Passing `mcen=True` returns only 1 full-sized image that contains the objects RA and DEC. This makes it faster, but also avoids issues such as partial cutouts (when object is too close to the edge of the image), and now the randomization of picking 1 image to make the cutout from is done for us!"
   ]
  },
  {
   "cell_type": "code",
   "execution_count": null,
   "metadata": {},
   "outputs": [],
   "source": [
    "for obj_type in ['star', 'galaxy']:\n",
    "    cut_outs = []\n",
    "    \n",
    "    num = 0 # This will keep track of how many cutouts are made of each type\n",
    "    \n",
    "    # Set a progress bar to print as cutouts are created\n",
    "    pbar = tqdm(total=num_cutouts, desc='Progress for generating '+str(obj_type)+' cutouts', leave=True)\n",
    "    \n",
    "    # Loop over every object\n",
    "    for idx, ra in enumerate(ra_dec[str(obj_type)+'_ra']):\n",
    "        \n",
    "        # Only continue if you have not satisfied 'num_cutouts'\n",
    "        if num < num_cutouts:\n",
    "            \n",
    "            dec = ra_dec[str(obj_type)+'_dec'].values[idx] \n",
    "            zquery.load_metadata(kind='sci', radec=[ra, dec], mcen=True, sql_query=\"seeing<2.0 and filtercode='zi'\")\n",
    "            image = zquery.metatable\n",
    "            \n",
    "            # Check that atleast 1 ZTF image was queried\n",
    "            if len(image) > 0:\n",
    "                # Generate URLs\n",
    "                url = generate_url(image, ra, dec)\n",
    "                cut_outs.append(url)\n",
    "                \n",
    "                # Save the images\n",
    "                num, pbar = save_image(url, num, plot_data, pbar)\n",
    "                \n",
    "        # Once `num_cutouts` is satisfied, exit loop, and start on next obj_type\n",
    "        else:\n",
    "            pbar.close()\n",
    "            break\n",
    "        \n",
    "    temp_df = pd.DataFrame({str(obj_type)+'_urls': cut_outs})\n",
    "    cut_outs_df = pd.concat([cut_outs_df, temp_df], axis=1)\n",
    "    \n",
    "# Save URLs to a .csv\n",
    "cut_outs_df.to_csv('cut_out_paths.csv', index=False)"
   ]
  },
  {
   "cell_type": "markdown",
   "metadata": {},
   "source": [
    "### Plot a few objects to verify cutouts were created correctly"
   ]
  },
  {
   "cell_type": "code",
   "execution_count": null,
   "metadata": {},
   "outputs": [],
   "source": [
    "fig, axes = plt.subplots(nrows=2, ncols=3, sharex='col', sharey='row', figsize=(10, 7))\n",
    "\n",
    "axes[0,0].imshow(plot_data[0], cmap='gray')\n",
    "axes[0,0].set_title('Star 1')\n",
    "axes[0,1].imshow(plot_data[1], cmap='gray')\n",
    "axes[0,1].set_title('Star 2')\n",
    "axes[0,2].imshow(plot_data[2], cmap='gray')\n",
    "axes[0,2].set_title('Star 3')\n",
    "\n",
    "axes[1,0].imshow(plot_data[3], cmap='gray')\n",
    "axes[1,0].set_title('Galaxy 1')\n",
    "axes[1,1].imshow(plot_data[4], cmap='gray')\n",
    "axes[1,1].set_title('Galaxy 2')\n",
    "axes[1,2].imshow(plot_data[5], cmap='gray')\n",
    "axes[1,2].set_title('Galaxy 3')\n",
    "\n",
    "plt.show()"
   ]
  },
  {
   "cell_type": "code",
   "execution_count": null,
   "metadata": {},
   "outputs": [],
   "source": []
  }
 ],
 "metadata": {
  "kernelspec": {
   "display_name": "Python 3",
   "language": "python",
   "name": "python3"
  },
  "language_info": {
   "codemirror_mode": {
    "name": "ipython",
    "version": 3
   },
   "file_extension": ".py",
   "mimetype": "text/x-python",
   "name": "python",
   "nbconvert_exporter": "python",
   "pygments_lexer": "ipython3",
   "version": "3.7.3"
  }
 },
 "nbformat": 4,
 "nbformat_minor": 2
}
