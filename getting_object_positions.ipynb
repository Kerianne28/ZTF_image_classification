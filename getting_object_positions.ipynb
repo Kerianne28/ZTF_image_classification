{
 "cells": [
  {
   "cell_type": "markdown",
   "metadata": {},
   "source": [
    "# Getting object types and positions\n",
    "### Though we will be doing star/galaxy classification with ZTF data, they do not have type labels associated with objects (i.e. you don't know whether something is a star or galaxy). In this notebook, we show how to crossmatch with another survey (in this case, the Legacy Survey), to get the sky positions for our labeled truth data. These positions can then be fed into ZTF to make the cutouts for classification.\n",
    "\n",
    "More information about the Legacy Survey: https://www.legacysurvey.org"
   ]
  },
  {
   "cell_type": "code",
   "execution_count": null,
   "metadata": {},
   "outputs": [],
   "source": [
    "import astropy.io.fits as fits\n",
    "import pandas as pd\n",
    "import matplotlib.pyplot as plt\n",
    "import numpy as np\n",
    "from astropy.coordinates import search_around_sky, SkyCoord\n",
    "from astropy import units as u"
   ]
  },
  {
   "cell_type": "markdown",
   "metadata": {},
   "source": [
    "### Import the data using the specified URL for the full data you would like to use. \n",
    "\n",
    "We use a sweep catalog, returning all objects between ra = (0, 10) degrees and dec = (-5, 0) degrees.\n",
    "\n",
    "More information on Legacy Survey sweep files: https://www.legacysurvey.org/dr7/files/#sweep-catalogs"
   ]
  },
  {
   "cell_type": "code",
   "execution_count": null,
   "metadata": {},
   "outputs": [],
   "source": [
    "target_url = 'https://portal.nersc.gov/cfs/cosmo/data/legacysurvey/dr9/south/sweep/9.0/sweep-000m005-010p000.fits'"
   ]
  },
  {
   "cell_type": "code",
   "execution_count": null,
   "metadata": {},
   "outputs": [],
   "source": [
    "data_raw = fits.getdata(target_url, header=True)\n",
    "data = data_raw[0]"
   ]
  },
  {
   "cell_type": "markdown",
   "metadata": {},
   "source": [
    "### Save all galaxy types as 'gals', and all stars as 'stars'"
   ]
  },
  {
   "cell_type": "code",
   "execution_count": null,
   "metadata": {},
   "outputs": [],
   "source": [
    "#\"REX\"=round exponential galaxy, \"DEV\"=deVauc, \"EXP\"=exponential, \"SER\"=Sersic\n",
    "gal_mask = (data['type'] == 'REX') | (data['type'] == 'DEV') | (data['type'] == 'EXP') | (data['type'] == 'SER')\n",
    "gals = data[gal_mask]\n",
    "print(\"# of all galaxies in catalog: \", len(gals))"
   ]
  },
  {
   "cell_type": "code",
   "execution_count": null,
   "metadata": {},
   "outputs": [],
   "source": [
    "#\"PSF\"=stellar\n",
    "psf_mask = (data['TYPE'] == 'PSF')\n",
    "stars = data[psf_mask]\n",
    "print(\"# of all stars in catalog: \", len(stars))"
   ]
  },
  {
   "cell_type": "markdown",
   "metadata": {},
   "source": [
    "### Optional \"right ascension\" (RA) and \"declination\" (DEC) cut:\n",
    "RA and DEC are to the sky, what longitutde and lattitude are to the earth. A helpful introduction to RA and DEC can be found here:\n",
    "https://skyandtelescope.org/astronomy-resources/right-ascension-declination-celestial-coordinates/\n",
    "\n",
    "You may want objects only within a certain ra and dec region within your file. Right now we have a region that is 10° in RA and 5° in DEC. Let's make it a 5° by 5° region with a cut to RA:"
   ]
  },
  {
   "cell_type": "code",
   "execution_count": null,
   "metadata": {},
   "outputs": [],
   "source": [
    "gals = gals[(gals['RA'] > 5) & (gals['RA'] < 10)]\n",
    "stars = stars[(stars['RA'] > 5) & (stars['RA'] < 10)]"
   ]
  },
  {
   "cell_type": "markdown",
   "metadata": {},
   "source": [
    "### Magnitude cuts:\n",
    "\n",
    "Astronomers make magnitude cuts to objects according to the *\"limiting magnitudes\"* of the telecope. Limiting magnitude is essentially the magnitude of the faintest object the telescope and detect. Flux and magnitude are mathematically related and describe the \"brightness\" of the object. More information can be found here: https://www.e-education.psu.edu/astro801/content/l4_p5.html. (It is important to note that the magnitude system is reversed! i.e. a lower magnitude corresponds to a brighter object)\n",
    "\n",
    "The Legacy Survey suppplies us with fluxes that must be converted to magnitudes. Doing so involves taking the log of the flux, so we need to make sure there are no negative flux values. (Note: negative flux is possible in very rare cases where you know an object is there but aren't seeing it in the current image, etc.)"
   ]
  },
  {
   "cell_type": "code",
   "execution_count": null,
   "metadata": {},
   "outputs": [],
   "source": [
    "# Ensure all fluxes > 0\n",
    "\n",
    "gals = gals[(gals['FLUX_G'] > 0) & (gals['FLUX_R'] > 0) & (gals['FLUX_Z'] > 0)]\n",
    "stars = stars[(stars['FLUX_G'] > 0) & (stars['FLUX_R'] > 0) & (stars['FLUX_Z'] > 0)]"
   ]
  },
  {
   "cell_type": "markdown",
   "metadata": {},
   "source": [
    "Once there are no negative values, flux can be converted to magnitude using:\n",
    "$Magnitude = 22.5-2.5log_{10}(Flux)$"
   ]
  },
  {
   "cell_type": "code",
   "execution_count": null,
   "metadata": {},
   "outputs": [],
   "source": [
    "# Calculate the magnitudes from the fluxes\n",
    "\n",
    "gal_mag_g = 22.5-2.5*np.log10(np.array(gals['FLUX_G']))\n",
    "gal_mag_r = 22.5-2.5*np.log10(np.array(gals['FLUX_R']))\n",
    "gal_mag_z = 22.5-2.5*np.log10(np.array(gals['FLUX_Z']))\n",
    "\n",
    "star_mag_g = 22.5-2.5*np.log10(np.array(stars['FLUX_G']))\n",
    "star_mag_r = 22.5-2.5*np.log10(np.array(stars['FLUX_R']))\n",
    "star_mag_z = 22.5-2.5*np.log10(np.array(stars['FLUX_Z']))"
   ]
  },
  {
   "cell_type": "markdown",
   "metadata": {},
   "source": [
    "Because we will be obtaining object positions from Legacy, and then using those positions to get their images from ZTF, we want to make cuts on the ZTF limiting magnitudes, to ensure ZTF can detect them!\n",
    "\n",
    "The limiting magnitudes for ZTF are: $g<20.8$, $r<20.6$, and $i<19.9$\n",
    "This means that in the g-band, it can detect objects as faint as magnitude 20.8, and so-on. \n",
    "\n",
    "More info on photometric bands here: https://en.wikipedia.org/wiki/Photometric_system"
   ]
  },
  {
   "cell_type": "markdown",
   "metadata": {},
   "source": [
    "***Note***: ZTF uses the g, r, and i bands, while the Legacy Survey consists of g-band, r-band, and z-band images. The further down the list the band, less faint objects can be detect (*usually*). We can roughly estimate that if ZTF can detect i-band to magnitude 19.9, it can probably detect in z-band to *roughly* 19.5. For the g-band and r-band we also round down a bit as we don't want to test the classifier on the faintest objects, *yet*."
   ]
  },
  {
   "cell_type": "code",
   "execution_count": null,
   "metadata": {},
   "outputs": [],
   "source": [
    "# Make a magnitude cut to satisfy (and go a little bit under) the limiting magnitude cutoffs for ZTF\n",
    "\n",
    "gals = gals[(gal_mag_g < 20.5) & (gal_mag_r < 20) & (gal_mag_z < 19.5)]\n",
    "stars = stars[(star_mag_g < 20.5) & (star_mag_r < 20) & (star_mag_z < 19.5)]\n",
    "\n",
    "print(\"# of galaxies after magnitude cuts: \", len(gals))\n",
    "print(\"# of stars after magnitude cuts: \", len(stars))"
   ]
  },
  {
   "cell_type": "markdown",
   "metadata": {},
   "source": [
    "### Basic blend cut:\n",
    "\n",
    "A \"blend\" simply means that there are two objects overlapping each other in the line-of-sight. Because the classifier uses \"cutouts\" (each image consists of just one object), we don't want any images with more than one object within a certain amount of space!\n",
    "\n",
    "You can first make a \"basic\" blend cut but cutting on \"fractional flux\". This value can tell you if there is flux contribution from other sources nearby. At the two extremes: a value of 0 means there is no flux from objects nearby, and a value of 1 means ALL flux is from objects nearby. \n",
    "\n",
    "***Note:*** We again do a cut to ensure no negative frac flux values make their way in. (These can be caused by objects with negative flux or objects with a neighbor with negative flux)"
   ]
  },
  {
   "cell_type": "code",
   "execution_count": null,
   "metadata": {},
   "outputs": [],
   "source": [
    "# Discard objects with high FRACFLUX's, as they are blends\n",
    "\n",
    "gals = gals[(gals['FRACFLUX_G'] <= .1) & (gals['FRACFLUX_G'] >= 0) & (gals['FRACFLUX_R'] <= .1) & (gals['FRACFLUX_R'] >= 0) & (gals['FRACFLUX_Z'] <= .1) & (gals['FRACFLUX_Z'] >= 0)]\n",
    "stars = stars[(stars['FRACFLUX_G'] <= .1) & (stars['FRACFLUX_G'] >= 0) & (stars['FRACFLUX_R'] <= .1) & (stars['FRACFLUX_R'] >= 0) & (stars['FRACFLUX_Z'] <= .1) & (stars['FRACFLUX_Z'] >= 0)]\n",
    "\n",
    "print(\"# of galaxies after basic blend cuts: \", len(gals))\n",
    "print(\"# of stars after basic blend cuts: \", len(stars))"
   ]
  },
  {
   "cell_type": "markdown",
   "metadata": {},
   "source": [
    "### More sophisticated blend cut:\n",
    "\n",
    "One can then do a better blend cut by compairing each objects RA and DEC to each other objects RA and DEC and remove every object that is within a certain distance of another object. \n",
    "\n",
    "We are making square cutouts of 20\" by 20\". ***Note:*** The double quote here means \"arc second\", where $1\"=\\frac{1}{3600}°$\n",
    "\n",
    "Astropy's `search_around_sky` searches in a circular region. If our square is 20\" x 20\", we need a circle that can inscribe that square, to ensure no objects are inside that square. Our search region radius becomes $10\\sqrt{2}$ arseconds.\n",
    "\n",
    "Once we determine which objects are within a cutout width of eachother, we cut them out!\n"
   ]
  },
  {
   "cell_type": "code",
   "execution_count": null,
   "metadata": {},
   "outputs": [],
   "source": [
    "# Some data manipulation for changing data from a fits recarray to a pandas DataFrame\n",
    "gal_ra = gals['RA'].byteswap().newbyteorder()\n",
    "gal_dec = gals['DEC'].byteswap().newbyteorder()\n",
    "gal_type = gals['TYPE'].byteswap().newbyteorder()\n",
    "\n",
    "star_ra = stars['RA'].byteswap().newbyteorder()\n",
    "star_dec = stars['DEC'].byteswap().newbyteorder()\n",
    "star_type = stars['TYPE'].byteswap().newbyteorder()"
   ]
  },
  {
   "cell_type": "code",
   "execution_count": null,
   "metadata": {},
   "outputs": [],
   "source": [
    "# Save data as pandas DataFrame for using astropy\n",
    "data = pd.DataFrame({'ra': np.concatenate((gal_ra, star_ra)), 'dec': np.concatenate((gal_dec, star_dec)), 'type': np.concatenate((gal_type, star_type))})"
   ]
  },
  {
   "cell_type": "code",
   "execution_count": null,
   "metadata": {},
   "outputs": [],
   "source": [
    "# Define our coordinate system\n",
    "c = SkyCoord(ra=data['ra']*u.degree, dec=data['dec']*u.degree)\n",
    "\n",
    "# Use search_around_sky to see if any two objects are within half a cutout width of each other\n",
    "idx1, idx2, sep2, dist3 = search_around_sky(c, c, (10*np.sqrt(2))*u.arcsec)"
   ]
  },
  {
   "cell_type": "code",
   "execution_count": null,
   "metadata": {},
   "outputs": [],
   "source": [
    "# Get a list of unique indexes where blends occur\n",
    "idx = (idx1 != idx2)\n",
    "idx1 = idx1[idx]"
   ]
  },
  {
   "cell_type": "code",
   "execution_count": null,
   "metadata": {},
   "outputs": [],
   "source": [
    "# Drop these rows from our dataframe\n",
    "data.drop(data.index[idx1], axis=0, inplace=True)"
   ]
  },
  {
   "cell_type": "code",
   "execution_count": null,
   "metadata": {},
   "outputs": [],
   "source": [
    "# Seperate back into galaxies and stars for easier writing to .csv\n",
    "gal_mask2 = (data['type'] == 'REX') | (data['type'] == 'DEV') | (data['type'] == 'EXP') | (data['type'] == 'SER')\n",
    "psf_mask2 = (data['type'] == 'PSF')\n",
    "\n",
    "gals = data[gal_mask2]\n",
    "stars = data[psf_mask2]\n",
    "\n",
    "print(\"# of galaxies after sophisticated blend cuts: \", len(gals))\n",
    "print(\"# of stars after sophisticated blend cuts: \", len(stars))"
   ]
  },
  {
   "cell_type": "markdown",
   "metadata": {},
   "source": [
    "We now have a complete dataset of stars and galaxies that are:\n",
    "- Within the ra and dec range we want\n",
    "- Have magnitudes that are detectable with ZTF\n",
    "- Should not be blended with another object"
   ]
  },
  {
   "cell_type": "markdown",
   "metadata": {},
   "source": [
    "### Randomly sample 10k galaxies and 10k stars, and save their RA, DEC, and truth labels to a .csv for use in the next step!"
   ]
  },
  {
   "cell_type": "code",
   "execution_count": null,
   "metadata": {},
   "outputs": [],
   "source": [
    "# Get data into a pandas dataframe for easy writing to .csv\n",
    "gals = pd.DataFrame({'ra': gals['ra'], 'dec': gals['dec'], 'type': gals['type']})\n",
    "stars = pd.DataFrame({'ra': stars['ra'], 'dec': stars['dec'], 'type': stars['type']})\n",
    "\n",
    "# Sample 10k of each object\n",
    "final_gals = gals.sample(10000)\n",
    "final_stars = stars.sample(10000)"
   ]
  },
  {
   "cell_type": "code",
   "execution_count": null,
   "metadata": {},
   "outputs": [],
   "source": [
    "final_stars.to_csv('stars.csv')\n",
    "final_gals.to_csv('gals.csv')"
   ]
  }
 ],
 "metadata": {
  "kernelspec": {
   "display_name": "Python 3",
   "language": "python",
   "name": "python3"
  },
  "language_info": {
   "codemirror_mode": {
    "name": "ipython",
    "version": 3
   },
   "file_extension": ".py",
   "mimetype": "text/x-python",
   "name": "python",
   "nbconvert_exporter": "python",
   "pygments_lexer": "ipython3",
   "version": "3.7.3"
  }
 },
 "nbformat": 4,
 "nbformat_minor": 2
}
